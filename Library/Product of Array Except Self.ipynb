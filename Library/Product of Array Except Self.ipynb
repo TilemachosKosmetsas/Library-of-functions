{
 "cells": [
  {
   "cell_type": "code",
   "execution_count": 1,
   "id": "282e5652",
   "metadata": {},
   "outputs": [],
   "source": [
    "import numpy as np"
   ]
  },
  {
   "cell_type": "code",
   "execution_count": 39,
   "id": "864b7b0d",
   "metadata": {},
   "outputs": [],
   "source": [
    "nums=[0,0,3,4,5]\n",
    "nums2=[1,2,3,4,5,6]"
   ]
  },
  {
   "cell_type": "code",
   "execution_count": 32,
   "id": "dd108025",
   "metadata": {},
   "outputs": [],
   "source": [
    "def product_except_self(array):\n",
    "    emptylist=[]\n",
    "    array=np.array(array)\n",
    "    zeropositions = np.where(array == 0)\n",
    "    \n",
    "    if 0 not in array:\n",
    "        for i in array:        \n",
    "            emptylist.append(int(array.prod()/i))\n",
    "    else:\n",
    "        zeroarray=np.zeros(len(array))\n",
    "        \n",
    "        if len(zeropositions[0]) >=2 :\n",
    "            \n",
    "            emptylist=list(zeroarray)\n",
    "            emptylist= [int(x) for x in emptylist]\n",
    "        else:\n",
    "            array[zeropositions]= 1\n",
    "            lastarray=np.zeros(len(array))\n",
    "            lastarray[zeropositions]= array.prod()\n",
    "            lastarray=list(lastarray)\n",
    "            lastarray=[int(x) for x in lastarray]\n",
    "            \n",
    "            return lastarray            \n",
    "            \n",
    "    \n",
    "    return emptylist"
   ]
  },
  {
   "cell_type": "code",
   "execution_count": 33,
   "id": "00443637",
   "metadata": {},
   "outputs": [
    {
     "data": {
      "text/plain": [
       "[0, 0, 0, 0, 0]"
      ]
     },
     "execution_count": 33,
     "metadata": {},
     "output_type": "execute_result"
    }
   ],
   "source": [
    "product_except_self(nums)"
   ]
  },
  {
   "cell_type": "code",
   "execution_count": 40,
   "id": "57259b81",
   "metadata": {},
   "outputs": [
    {
     "data": {
      "text/plain": [
       "[720, 360, 240, 180, 144, 120]"
      ]
     },
     "execution_count": 40,
     "metadata": {},
     "output_type": "execute_result"
    }
   ],
   "source": [
    "product_except_self(nums2)"
   ]
  },
  {
   "cell_type": "code",
   "execution_count": null,
   "id": "f56103c4",
   "metadata": {},
   "outputs": [],
   "source": []
  }
 ],
 "metadata": {
  "kernelspec": {
   "display_name": "Python 3 (ipykernel)",
   "language": "python",
   "name": "python3"
  },
  "language_info": {
   "codemirror_mode": {
    "name": "ipython",
    "version": 3
   },
   "file_extension": ".py",
   "mimetype": "text/x-python",
   "name": "python",
   "nbconvert_exporter": "python",
   "pygments_lexer": "ipython3",
   "version": "3.9.12"
  }
 },
 "nbformat": 4,
 "nbformat_minor": 5
}
