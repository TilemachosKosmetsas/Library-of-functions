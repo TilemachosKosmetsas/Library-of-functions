{
 "cells": [
  {
   "cell_type": "code",
   "execution_count": null,
   "id": "1fa3430d",
   "metadata": {},
   "outputs": [],
   "source": [
    "'''Input: nums = [2,7,11,15], target = 9\n",
    "Output: [0,1]\n",
    "Explanation: Because nums[0] + nums[1] == 9, we return [0, 1].'''"
   ]
  },
  {
   "cell_type": "code",
   "execution_count": 33,
   "id": "6f76182a",
   "metadata": {},
   "outputs": [],
   "source": [
    "nums=[2,3,6,10]\n",
    "target =13\n",
    "from time import sleep"
   ]
  },
  {
   "cell_type": "code",
   "execution_count": 28,
   "id": "ea8b202a",
   "metadata": {},
   "outputs": [
    {
     "name": "stdout",
     "output_type": "stream",
     "text": [
      "CPU times: total: 0 ns\n",
      "Wall time: 0 ns\n"
     ]
    }
   ],
   "source": [
    "%%time\n",
    "\n",
    "def check_twonumbers_givetarget(nums,target):\n",
    "    for i in nums:\n",
    "        for j in nums:\n",
    "            if (i+j == target):\n",
    "                return (i,j)"
   ]
  },
  {
   "cell_type": "code",
   "execution_count": 17,
   "id": "7cc5a53d",
   "metadata": {
    "scrolled": true
   },
   "outputs": [
    {
     "data": {
      "text/plain": [
       "(3, 10)"
      ]
     },
     "execution_count": 17,
     "metadata": {},
     "output_type": "execute_result"
    }
   ],
   "source": [
    "check_twonumbers_givetarget([2,3,6,10],13)"
   ]
  },
  {
   "cell_type": "code",
   "execution_count": 37,
   "id": "1dee4425",
   "metadata": {},
   "outputs": [
    {
     "name": "stdout",
     "output_type": "stream",
     "text": [
      "CPU times: total: 0 ns\n",
      "Wall time: 0 ns\n"
     ]
    }
   ],
   "source": [
    "%%time\n",
    "class Solution:\n",
    "    def twoSum(nums,target):\n",
    "        prevMap = {} # val -> index\n",
    "        \n",
    "        for i, n in enumerate(nums):\n",
    "            print(i , n)\n",
    "            sleep(0.5)\n",
    "            diff = target - n\n",
    "            if diff in prevMap:\n",
    "                return [prevMap[diff], i]\n",
    "            prevMap[n] = i\n",
    "            print (prevMap)"
   ]
  },
  {
   "cell_type": "code",
   "execution_count": 38,
   "id": "674e5067",
   "metadata": {},
   "outputs": [
    {
     "name": "stdout",
     "output_type": "stream",
     "text": [
      "0 2\n",
      "{2: 0}\n",
      "1 3\n",
      "{2: 0, 3: 1}\n",
      "2 6\n",
      "{2: 0, 3: 1, 6: 2}\n",
      "3 10\n"
     ]
    },
    {
     "data": {
      "text/plain": [
       "[1, 3]"
      ]
     },
     "execution_count": 38,
     "metadata": {},
     "output_type": "execute_result"
    }
   ],
   "source": [
    "#If SOME difference gives a nymber already present, return the positions of those  two (it is my opinion that this is O(N) )\n",
    "#the previous one must be O(nsquared)\n",
    "Solution.twoSum(nums,target)"
   ]
  },
  {
   "cell_type": "code",
   "execution_count": null,
   "id": "276c917e",
   "metadata": {},
   "outputs": [],
   "source": []
  }
 ],
 "metadata": {
  "kernelspec": {
   "display_name": "Python 3 (ipykernel)",
   "language": "python",
   "name": "python3"
  },
  "language_info": {
   "codemirror_mode": {
    "name": "ipython",
    "version": 3
   },
   "file_extension": ".py",
   "mimetype": "text/x-python",
   "name": "python",
   "nbconvert_exporter": "python",
   "pygments_lexer": "ipython3",
   "version": "3.9.12"
  }
 },
 "nbformat": 4,
 "nbformat_minor": 5
}
