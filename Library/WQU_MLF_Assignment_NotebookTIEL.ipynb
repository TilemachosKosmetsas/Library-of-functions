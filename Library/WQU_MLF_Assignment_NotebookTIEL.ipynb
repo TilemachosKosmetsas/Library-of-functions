{
 "cells": [
  {
   "cell_type": "markdown",
   "metadata": {},
   "source": [
    "# Peer Review Assignment 1\n",
    "\n",
    "\n"
   ]
  },
  {
   "cell_type": "markdown",
   "metadata": {},
   "source": [
    "## Instructions\n",
    "* Work through the notebook, answer all questions, and do all problems\n",
    "* You are allowed to consult the internet, and discuss on the module forum\n",
    "* Your answers and solutions to the problems should be added to this notebook \n",
    "* Submit your final work as an html file\n",
    "* Note that the solutions to the problems used python version 3.6.4. \n",
    "* Hint: In this assignment you work with a single linear regression problem where you generate data yourself. This means that you have an idea of what the computed solution should look like. \n",
    "\n",
    "## Marking Scheme (Theoretical Questions)\n",
    "* All questions are marked out of 3.\n",
    "* No valid answer: 0 marks\n",
    "* Demonstration of grasp of basic idea: 1 mark\n",
    "* 'Perfect' answer: 3 marks\n",
    "\n",
    "## Marking Scheme (Practical Problems)\n",
    "* All problems are marked out of 5.\n",
    "* No valid answer: 0 marks\n",
    "* Demonstration of grasp of basic idea: 2 mark\n",
    "* Working code: 5 marks\n",
    "---"
   ]
  },
  {
   "cell_type": "markdown",
   "metadata": {},
   "source": [
    "# Regression\n",
    "\n",
    "Let's start with the simplest possible regression problem: Solve the following system of linear equations,\n",
    "\n",
    "$$\n",
    "x = 1.0\\\\\n",
    "x = 0.5\\\\\n",
    "x = 0.7\\\\\n",
    "$$\n",
    "At first glance this does not make sense, how can $x$ take on different values than these? In practice however, this happens all the time. Think of the situation where you measure a quantity multiple times; every time you measure - a slightly different value - just as in the equations above. This is a simple example of an over-determined system.\n",
    "\n",
    "---\n",
    "Answer the following questions (all calculations should be done by hand, written here in latex):"
   ]
  },
  {
   "cell_type": "markdown",
   "metadata": {},
   "source": [
    "### Questions 1:\n",
    "\n",
    "1.1) Write the system above as a *linear* system of equation of the form $Ax = b$. <br> **Answer (3 marks):**"
   ]
  },
  {
   "cell_type": "markdown",
   "metadata": {},
   "source": [
    "&nbsp;&nbsp;&nbsp;&nbsp;&nbsp;&nbsp;The system of linear equations has the form: $Ax=b$ , where $X$ is the unknown vector , $A$ is the transformation matrix and $B$ vector contains our targeted values (these are given to us) $1.0 , 0.5 , 0.7$.\n",
    "\n",
    "<br><br>&nbsp;&nbsp;&nbsp;&nbsp;&nbsp;&nbsp;Since $b$ is a $3x1$ vector/matrix, then our $A$ is $3x3$ and $x$ is also $3x1$ such that:<br>\n",
    "$$\n",
    "A=\n",
    "\\begin{bmatrix}\n",
    "a_{11} & a_{12} & a_{13}\\\\\n",
    "a_{21} & a_{22} & a_{23}\\\\\n",
    "a_{31} & a_{32} & a_{33}\n",
    "\\end{bmatrix}  , \n",
    "x=\n",
    "\\begin{bmatrix}\n",
    "x_{1}\\\\\n",
    "x_{2}\\\\\n",
    "x_{3}\n",
    "\\end{bmatrix}\n",
    "\\text{,and }\n",
    "b=\n",
    "\\begin{bmatrix}\n",
    "1.0\\\\\n",
    "0.5\\\\\n",
    "0.7\n",
    "\\end{bmatrix}\n",
    "$$\n",
    "<br>&nbsp;&nbsp;&nbsp;&nbsp;&nbsp;&nbsp; If $x$ approaches the targeted values of $b$ such that $x_{1}=1$ , $x_{2}=0.5$ and $x_{3}=0.7$ then:\n",
    "<br><br>\n",
    "$$\n",
    "A=\n",
    "\\begin{bmatrix}\n",
    "1 & 0 & 0\\\\\n",
    "0 & 1 & 0\\\\\n",
    "0 & 0 & 1\n",
    "\\end{bmatrix} \n",
    "\\text{should be the identity matrix} I\n",
    "$$ \n",
    "<br><br>&nbsp;&nbsp;&nbsp;&nbsp;&nbsp;&nbsp;Such that:\n",
    "<br>\n",
    "$$\n",
    "\\begin{bmatrix}\n",
    "1 & 0 & 0\\\\\n",
    "0 & 1 & 0\\\\\n",
    "0 & 0 & 1\n",
    "\\end{bmatrix} \n",
    "\\cdot\n",
    "\\begin{bmatrix}\n",
    "x_{1}\\\\\n",
    "x_{2}\\\\\n",
    "x_{3}\n",
    "\\end{bmatrix}\n",
    "=\n",
    "\\begin{bmatrix}\n",
    "1.0\\\\\n",
    "0.5\\\\\n",
    "0.7\n",
    "\\end{bmatrix}\n",
    "$$ \n",
    " "
   ]
  },
  {
   "cell_type": "markdown",
   "metadata": {},
   "source": [
    "1.2) Write down the normal equations, $A^TA x = A^T b$ for this system.<br>\n",
    "   **Answer (3 marks):**"
   ]
  },
  {
   "cell_type": "markdown",
   "metadata": {},
   "source": [
    "&nbsp;&nbsp;&nbsp;&nbsp;&nbsp;&nbsp;For the system to be solvable, we need  to make sure the determinant of $A$, $det(A)$ to be $\\neq 0$.\n",
    "\n",
    "&nbsp;&nbsp;&nbsp;&nbsp;&nbsp;&nbsp;$A^T$  obviously, is the transpose matrix of A. If $A$ is invertible, then $A^T$ is also invertible. It can also be proven that when $A$ is invertible, the product $A \\cdot A^T$ is also invertible. <br><br>\n",
    "&nbsp;&nbsp;&nbsp;&nbsp;&nbsp;&nbsp;Than means our system $A^TA x = A^T b$ can be solved.\n",
    "I will first write the normal equation and then I will solve for $x$.<br>\n",
    "<center>$A^TA x = A^T b$</center>\n",
    "<br>\n",
    "<center>\n",
    "$\\Leftrightarrow$</center>\n",
    "<br>\n",
    "<center>\n",
    "$\\begin{bmatrix}\n",
    "a_{11} & a_{21} & a_{31}\\\\\n",
    "a_{12} & a_{22} & a_{32}\\\\\n",
    "a_{13} & a_{23} & a_{33}\n",
    "\\end{bmatrix} \n",
    "\\cdot\n",
    "\\begin{bmatrix}\n",
    "a_{11} & a_{12} & a_{13}\\\\\n",
    "a_{21} & a_{22} & a_{23}\\\\\n",
    "a_{31} & a_{32} & a_{33}\n",
    "\\end{bmatrix} \n",
    "\\cdot\n",
    "\\begin{bmatrix}\n",
    "x_{1}\\\\\n",
    "x_{2}\\\\\n",
    "x_{3}\n",
    "\\end{bmatrix}\n",
    "=\n",
    "\\begin{bmatrix}\n",
    "a_{11} & a_{21} & a_{31}\\\\\n",
    "a_{12} & a_{22} & a_{32}\\\\\n",
    "a_{13} & a_{23} & a_{33}\n",
    "\\end{bmatrix}\n",
    "\\cdot\n",
    "\\begin{bmatrix}\n",
    "1.0\\\\\n",
    "0.5\\\\\n",
    "0.7\n",
    "\\end{bmatrix}\n",
    "$</center>\n"
   ]
  },
  {
   "cell_type": "markdown",
   "metadata": {},
   "source": [
    "#### 1.3) Solve the system of normal equations for the system above. Is there an intuitive interpretation of the solution \n",
    "\n",
    "**Answer (3 marks):**"
   ]
  },
  {
   "cell_type": "markdown",
   "metadata": {},
   "source": [
    "\n",
    "$\n",
    "\\text{Solving for x, gives us: }\n",
    "x\n",
    "=\n",
    "\\left(\n",
    "\\begin{bmatrix}\n",
    "a_{11} & a_{21} & a_{31}\\\\\n",
    "a_{12} & a_{22} & a_{32}\\\\\n",
    "a_{13} & a_{23} & a_{33}\n",
    "\\end{bmatrix} \n",
    "\\cdot\n",
    "\\begin{bmatrix}\n",
    "a_{11} & a_{12} & a_{13}\\\\\n",
    "a_{21} & a_{22} & a_{23}\\\\\n",
    "a_{31} & a_{32} & a_{33}\n",
    "\\end{bmatrix} \n",
    "\\right)^{-1}\n",
    "\\cdot\n",
    "\\begin{bmatrix}\n",
    "a_{11} & a_{21} & a_{31}\\\\\n",
    "a_{12} & a_{22} & a_{32}\\\\\n",
    "a_{13} & a_{23} & a_{33}\n",
    "\\end{bmatrix}\n",
    "\\cdot\n",
    "\\begin{bmatrix}\n",
    "1.0\\\\\n",
    "0.5\\\\\n",
    "0.7\n",
    "\\end{bmatrix}\n",
    "$\n",
    "<br>\n",
    "Meaning:<br><br>\n",
    "<center>\n",
    "$x$ = $\\left(A^T \\cdot A \\right)^{-1}\\cdot A^T \\cdot b$.</center>\n",
    "<br>\n",
    "In the trivial case where $A=I$, it becomes obvious that $x = b$.\n",
    "\n",
    "&nbsp;&nbsp;&nbsp;&nbsp;&nbsp;&nbsp;The solution of the normal equation is particularly significant because it minizes the squared errors between the targeted values of $b$ and the observed values of the explanatory variable $x$. It is also worth mentioning that $A^TA$ is the covariance matrice of $x_{1},x_{2},x_{3}$."
   ]
  },
  {
   "cell_type": "markdown",
   "metadata": {},
   "source": [
    "---\n",
    "Let's now revisit the well-known linear regression problem. We'll first formulate it as the solution of an over-determined system, and then as an optimisation problem. For this example we'll use the computer to solve the problem.\n",
    "\n",
    "We are given data in the form of $(x,y)$ pairs and we know that, given $x$, that $y = mx +c$. Since one can fit a straight line through two points, we only need two pairs to fit a line. But there is a rub, the $y$ values are contaminated by noise (at this point you may want to look at the example below), and it is not possible to find a single line that will pass through all points. We therefore need to find the line that best fits the given values. We'll lead you through the solution.\n",
    "\n",
    "Given $(x_n,y_n),\\;\\;n=1,\\ldots,N$, we need to solve for $m$ and $b$ from\n",
    "$$\n",
    "mx_n +b = y_n, \\;\\;n=1,\\ldots,N.\n",
    "$$"
   ]
  },
  {
   "cell_type": "markdown",
   "metadata": {},
   "source": [
    "---\n",
    "### Questions 2:\n",
    "\n",
    "2.1) Write this as a linear system where the unknowns are $m$ and $b$.<br>\n",
    "   **Answer (3 marks):**"
   ]
  },
  {
   "cell_type": "markdown",
   "metadata": {},
   "source": [
    "&nbsp;&nbsp;&nbsp;&nbsp;&nbsp;&nbsp;The linear system would be as follows: <br><br>\n",
    "<center>\n",
    "$\n",
    "m\n",
    "\\cdot \n",
    "\\begin{bmatrix}\n",
    "x_{1}\\\\\n",
    "x_{2}\\\\\n",
    "\\vdots\\\\\n",
    "x_{n}\n",
    "\\end{bmatrix}\n",
    "+b\n",
    "=\n",
    "\\begin{bmatrix}\n",
    "y_{1}\\\\\n",
    "y_{2}\\\\\n",
    "\\vdots\\\\\n",
    "y_{n}\n",
    "\\end{bmatrix}\n",
    "$\n",
    "</center><br>\n",
    "&nbsp;&nbsp;&nbsp;&nbsp;&nbsp;&nbsp;\n",
    "Where $m$ is the slope of the regression line and $b$ is the $y$ axis intercept."
   ]
  },
  {
   "cell_type": "markdown",
   "metadata": {},
   "source": [
    "2.2) Write down, and solve the normal equations for the unknows $m$ and $b$.<br>\n",
    "   **Answer (3 marks):**"
   ]
  },
  {
   "cell_type": "markdown",
   "metadata": {},
   "source": [
    "&nbsp;&nbsp;&nbsp;&nbsp;&nbsp;&nbsp;If $m = 0$ then $b$ should be $=y_{n}$, for the system to be solvable (the system has infininitely many solutions for every vector $x$)."
   ]
  },
  {
   "cell_type": "markdown",
   "metadata": {},
   "source": [
    "&nbsp;&nbsp;&nbsp;&nbsp;&nbsp;&nbsp;If $m \\neq 0$ then solving the system should go as follows:\n",
    "<center>\n",
    "$\n",
    "m\n",
    "\\cdot \n",
    "\\begin{bmatrix}\n",
    "x_{1}\\\\\n",
    "x_{2}\\\\\n",
    "\\vdots\\\\\n",
    "x_{n}\n",
    "\\end{bmatrix}\n",
    "+b\n",
    "=\n",
    "\\begin{bmatrix}\n",
    "y_{1}\\\\\n",
    "y_{2}\\\\\n",
    "\\vdots\\\\\n",
    "y_{n}\n",
    "\\end{bmatrix}\n",
    "$<br>\n",
    "$\\Leftrightarrow$\n",
    "</center>\n",
    "\n",
    "<br>\n",
    "\n",
    "\n",
    "$\\text{Let A be: }\n",
    "\\begin{bmatrix}\n",
    "1 & x_{1}\\\\\n",
    "1 & x_{2}\\\\\n",
    "\\vdots & \\vdots\\\\\n",
    "1 & x_{n}\n",
    "\\end{bmatrix}\n",
    "\\text{ , w be:}\n",
    "\\begin{bmatrix}\n",
    "b\\\\\n",
    "m\n",
    "\\end{bmatrix}\n",
    "\\text{ and y matrix/vector be:}\n",
    "\\begin{bmatrix}\n",
    "y_{1}\\\\\n",
    "y_{2}\\\\\n",
    "\\vdots\\\\\n",
    "y_{n}\n",
    "\\end{bmatrix}\n",
    "$\n",
    "\n",
    "<br>\n",
    "Then the system above can be written as:\n",
    "<br>\n",
    "<center> $A \\cdot w = y$\n",
    "</center>\n",
    "\n",
    "\n",
    "\n",
    "$\\Leftrightarrow$\n",
    "<br>\n",
    "$\n",
    "\\begin{bmatrix}\n",
    "1 & x_{1}\\\\\n",
    "1 & x_{2}\\\\\n",
    "\\vdots & \\vdots\\\\\n",
    "1 & x_{n}\n",
    "\\end{bmatrix}\n",
    "\\cdot\n",
    "\\begin{bmatrix}\n",
    "b\\\\\n",
    "m\n",
    "\\end{bmatrix}\n",
    "=\n",
    "\\begin{bmatrix}\n",
    "y_{1}\\\\\n",
    "y_{2}\\\\\n",
    "\\vdots\\\\\n",
    "y_{n}\n",
    "\\end{bmatrix}\n",
    "$<br>\n",
    "</center><br>\n",
    "&nbsp;&nbsp;&nbsp;&nbsp;&nbsp;&nbsp;Where the first matrix's dimensions are $n \\times 2$ , the second matrix's dimensions are\n",
    "$2 \\times 1$  and the output vector/matrix $y$ dimensions are $n \\times 1$\n",
    "<br><br>\n",
    "\n",
    "&nbsp;&nbsp;&nbsp;&nbsp;&nbsp;&nbsp; We need to multiply with the transpose matrix of A (both hands of the equation-from the left side) in order to square the matrix. And assuming the $A^T\\cdot A$ is invertible, we will then multiply both sides with $\\left(A^T\\cdot A\\right)^{-1}$ in order to solve for $w$.\n",
    "<br>&nbsp;&nbsp;&nbsp;&nbsp;&nbsp;&nbsp;\n",
    "That means solving for $m$ and $b$.\n",
    "Matrix $A^T$ dimensions are $2 \\times n$. It then follows:\n",
    "<br><br>\n",
    "\n",
    "<center>\n",
    "$\n",
    "\\begin{bmatrix}\n",
    "1 & 1 & \\cdots & 1\\\\\n",
    "x_{1} & x_{2} & \\cdots & x_{n}\n",
    "\\end{bmatrix}\n",
    "\\cdot\n",
    "\\begin{bmatrix}\n",
    "1 & x_{1}\\\\\n",
    "1 & x_{2}\\\\\n",
    "\\vdots & \\vdots\\\\\n",
    "1 & x_{n}\n",
    "\\end{bmatrix}\n",
    "\\cdot\n",
    "\\begin{bmatrix}\n",
    "b\\\\\n",
    "m\n",
    "\\end{bmatrix}\n",
    "=\n",
    "\\begin{bmatrix}\n",
    "1 & 1 & \\cdots & 1\\\\\n",
    "x_{1} & x_{2} & \\cdots & x_{n}\n",
    "\\end{bmatrix}\n",
    "\\cdot\n",
    "\\begin{bmatrix}\n",
    "y_{1}\\\\\n",
    "y_{2}\\\\\n",
    "\\vdots\\\\\n",
    "y_{n}\n",
    "\\end{bmatrix}\n",
    "$  \n",
    "</center>\n",
    "<br>\n",
    "\n",
    "<center>\n",
    "$\\Leftrightarrow$\n",
    "<br><br>\n",
    "$\n",
    "\\begin{bmatrix}\n",
    "n &   \\sum_{i=1}^{i=n} x_{i}  \\\\\n",
    "\\sum_{i=1}^{i=n} x_{i} & \\sum_{i=1}^{i=n} x_{i}^{2}\n",
    "\\end{bmatrix}\n",
    "\\cdot\n",
    "\\begin{bmatrix}\n",
    "b\\\\\n",
    "m\n",
    "\\end{bmatrix}\n",
    "=\n",
    "\\begin{bmatrix}\n",
    "\\sum_{i=1}^{i=n} y_{i}\\\\\n",
    "\\sum_{i=1}^{i=n} x_{i} \\cdot y_{i}\n",
    "\\end{bmatrix}\n",
    "$\n",
    "</center>\n",
    "<br>&nbsp;&nbsp;&nbsp;&nbsp;&nbsp;&nbsp;Where $A^T\\cdot A$ is: \n",
    "\\begin{bmatrix}\n",
    "n &   \\sum_{i=1}^{i=n} x_{i}  \\\\\n",
    "\\sum_{i=1}^{i=n} x_{i} & \\sum_{i=1}^{i=n} x_{i}^{2}\n",
    "\\end{bmatrix}\n",
    "<br>\n",
    "Then by multipling both sides (from the left) with $\\left(A^T\\cdot A \\right)^{-1} $we can solve for $w$:\n",
    "<br>\n",
    "<center>\n",
    "$\n",
    "\\begin{bmatrix}\n",
    "b\\\\\n",
    "m\n",
    "\\end{bmatrix}\n",
    "=\n",
    "\\left(\\begin{bmatrix}\n",
    "n &   \\sum_{i=1}^{i=n} x_{i}  \\\\\n",
    "\\sum_{i=1}^{i=n} x_{i} & \\sum_{i=1}^{i=n} x_{i}^{2}\n",
    "\\end{bmatrix}\\right)^{-1}\n",
    "\\cdot\n",
    "\\begin{bmatrix}\n",
    "\\sum_{i=1}^{i=n} y_{i}\\\\\n",
    "\\sum_{i=1}^{i=n} x_{i} \\cdot y_{i}\n",
    "\\end{bmatrix}\n",
    "$<br>\n",
    "$\\Leftrightarrow$\n",
    "</center>\n",
    "<br>\n",
    "\n",
    "\n",
    "<center>\n",
    "$\n",
    "\\begin{bmatrix}\n",
    "b\\\\\n",
    "m\n",
    "\\end{bmatrix}\n",
    "=\n",
    "\\frac{1}{n \\cdot \\sum_{i=1}^{i=n} x_{i}^{2} -\\left( \\sum_{i=1}^{i=n} x_{i}\\right)^{2}}\n",
    "\\cdot\n",
    "\\begin{bmatrix}\n",
    "\\sum_{i=1}^{i=n} x_{i}^{2} &   -\\sum_{i=1}^{i=n} x_{i}  \\\\\n",
    "-\\sum_{i=1}^{i=n} x_{i} & n\n",
    "\\end{bmatrix}\n",
    "\\cdot\n",
    "\\begin{bmatrix}\n",
    "\\sum_{i=1}^{i=n} y_{i}\\\\\n",
    "\\sum_{i=1}^{i=n} x_{i} \\cdot y_{i}\n",
    "\\end{bmatrix}\n",
    "$\n",
    " </center>\n",
    " \n",
    "<br>\n",
    "&nbsp;&nbsp;&nbsp;&nbsp;&nbsp;&nbsp;Then $m$ and $b$ are equal to:\n",
    "<br>\n",
    "<center>\n",
    "$\n",
    "m= \\frac{n \\cdot \\sum_{i=1}^{i=n}x_{i}y_{i} - \\sum_{i=1}^{i=n}x_{i} \\cdot \\sum_{i=1}^{i=n}y_{i}}{n \\cdot \\sum_{i=1}^{i=n}x^{2}_{i} - \\left(\\sum_{i=1}^{i=n}x_{i} \\right)^{2}} \\\\\n",
    "b = \\frac{\\sum_{i=1}^{i=n}x^{2}_{i} \\cdot \\sum_{i=1}^{i=n}y_{i} - \\sum_{i=1}^{i=n}x_{i} \\cdot \\sum_{i=1}^{i=n}x_{i}y_{i}}{n \\cdot \\sum_{i=1}^{i=n}x^{2}_{i} - \\left( \\sum_{i=1}^{i=n}x_{i} \\right)^{2}}\n",
    "$\n",
    "    </center>"
   ]
  },
  {
   "cell_type": "markdown",
   "metadata": {},
   "source": [
    "Next we treat this as an optimisation problem. Instead of using the normal equations, we now look for $m$ and $b$ that minimises the mean squared error,\n",
    "$$\n",
    "E = \\frac1N\\sum_{n=1}^N (mx_n + b - y_n)^2.\n",
    "$$"
   ]
  },
  {
   "cell_type": "markdown",
   "metadata": {},
   "source": [
    "---\n",
    "\n",
    "### Questions 3:\n",
    "\n",
    "3.1) Write down the equations $\\frac{\\partial E}{\\partial m} = 0$ and $\\frac{\\partial E}{\\partial b} =0$.<br>\n",
    "   **Answer (3 marks):**"
   ]
  },
  {
   "cell_type": "markdown",
   "metadata": {},
   "source": [
    "<center>\n",
    "    $\n",
    "    \\frac{\\partial{E}}{\\partial{m}} = 0\n",
    "    $\n",
    "    <br>\n",
    "    $\\Leftrightarrow$\n",
    "    <br>\n",
    "    $\n",
    "    \\frac{2}{N}\n",
    "    \\cdot\n",
    "    \\sum_{i=1}^{i=N} \\left( m \\cdot x_{i} + b - y_{i} \\right)\n",
    "    \\cdot\n",
    "    x_{i}\n",
    "    =0\n",
    "    $\n",
    "    <br>\n",
    "    $\\Leftrightarrow$\n",
    "    <br>\n",
    "    $\n",
    "    \\sum_{i=1}^{i=N} \\left( m \\cdot x_{i}^{2} + b \\cdot x_{i} - y_{i}\\cdot x_{i} \\right)\n",
    "    =0\n",
    "    $\n",
    "    <br>\n",
    "    $\\Leftrightarrow$\n",
    "    <br>\n",
    "    $\n",
    "    m \\cdot \\sum_{i=1}^{i=N} x_{i}^{2} + b \\cdot \\sum_{i=1}^{i=N} x_{i} - \\sum_{i=1}^{i=N}y_{i}\\cdot x_{i}\n",
    "    =\n",
    "    0\n",
    "    $\n",
    "    <br>\n",
    "    $\\Leftrightarrow$\n",
    "    <br>\n",
    "    $\n",
    "    m \\cdot \\sum_{i=1}^{i=N} x_{i}^{2} + b \\cdot \\sum_{i=1}^{i=N} x_{i} = \\sum_{i=1}^{i=N}y_{i}\\cdot x_{i}\n",
    "    $\n",
    "    &nbsp;&nbsp;&nbsp;&nbsp;&nbsp;&nbsp; (EQ $1$)\n",
    "    <br><br>\n",
    "    and:\n",
    "    <br><br>\n",
    "    $\n",
    "    \\frac{\\partial{E}}{\\partial{b}} = 0\n",
    "    $\n",
    "    <br>\n",
    "    $\\Leftrightarrow$\n",
    "    <br>\n",
    "    $\n",
    "    \\frac{2}{N}\n",
    "    \\cdot\n",
    "    \\sum_{i=1}^{i=N} \\left( m \\cdot x_{i} + b - y_{i} \\right)\n",
    "    =0\n",
    "    $\n",
    "    <br>\n",
    "    $\\Leftrightarrow$\n",
    "    <br>\n",
    "    $\n",
    "    m \\cdot \\sum_{i=1}^{i=N} x_{i} + b \\cdot n - \\sum_{i=1}^{i=N}y_{i}\\cdot \n",
    "    =\n",
    "    0\n",
    "    $\n",
    "    <br>\n",
    "    $\\Leftrightarrow$\n",
    "    <br>\n",
    "    $\n",
    "    m \\cdot \\sum_{i=1}^{i=N} x_{i} + b \\cdot n  = \\sum_{i=1}^{i=N}y_{i}\n",
    "    $\n",
    "    &nbsp;&nbsp;&nbsp;&nbsp;&nbsp;&nbsp; (EQ $2$)\n",
    "    <br><br>\n",
    "    </center>"
   ]
  },
  {
   "cell_type": "markdown",
   "metadata": {},
   "source": [
    "3.2) Write the equations as a linear system, and solve for $m$ and $b$. How does your answer compare with the answer you obtained above?<br>\n",
    "   **Answer (3 marks):**<br>"
   ]
  },
  {
   "cell_type": "markdown",
   "metadata": {},
   "source": [
    "&nbsp;&nbsp;&nbsp;&nbsp;&nbsp;&nbsp;For simplicity i will substitute:\n",
    "<center>\n",
    "$\n",
    "\\sum_{i=1}^{i=N} x_{i}^{2}\n",
    "$ with SX2<br>\n",
    "$\n",
    "\\sum_{i=1}^{i=N} x_{i}\n",
    "$\n",
    "with SX<br>\n",
    "$\n",
    "\\sum_{i=1}^{i=N} x_{i} \\cdot y_{i}\n",
    "$\n",
    "with SXY , and<br>\n",
    "$\n",
    "\\sum_{i=1}^{i=N} y_{i}\n",
    "$\n",
    "with SY \n",
    "</center>\n",
    "&nbsp;&nbsp;&nbsp;&nbsp;&nbsp;&nbsp;Assuming that the determinant of the coefficients of the linear system ( equations $1$ and $2$ ) is $\\neq 0$ , then by using Krammer's rule we should get the following solutions for $m$ and $b$.\n",
    "<br>\n",
    "&nbsp;&nbsp;&nbsp;&nbsp;&nbsp;&nbsp;$m$ should be:<br>\n",
    "<center>\n",
    "    $\n",
    "    m=\\frac{D_{m}}{D}\n",
    "    $\n",
    "    </center>\n",
    "    <br><br>\n",
    "&nbsp;&nbsp;&nbsp;&nbsp;&nbsp;&nbsp;and $b$ should be:<br>\n",
    "    <center>\n",
    "    $\n",
    "    m=\\frac{D_{b}}{D}\n",
    "    $\n",
    "</center>\n",
    "<br><br>\n",
    "&nbsp;&nbsp;&nbsp;&nbsp;&nbsp;&nbsp;By sustituting we get:\n",
    "<center>\n",
    "    $\n",
    "    m=\\frac{n \\cdot SXY - SX \\cdot SY}{n \\cdot SX2 -SX^{2}}\n",
    "    $<br><br>\n",
    "    and\n",
    "    $\n",
    "    b=\\frac{SX2 \\cdot SY - SX \\cdot SXY}{n \\cdot SX2 -SX^{2}}\n",
    "    $\n",
    "    <br><br>\n",
    "    And by substituting back we get:<br> <br>\n",
    "    $\n",
    "    m= \\frac{n \\cdot \\sum_{i=1}^{i=n}x_{i}y_{i} - \\sum_{i=1}^{i=n}x_{i} \\cdot \\sum_{i=1}^{i=n}y_{i}}{n \\cdot \\sum_{i=1}^{i=n}x^{2}_{i} - \\left(\\sum_{i=1}^{i=n}x_{i} \\right)^{2}} \\\\\n",
    "b = \\frac{\\sum_{i=1}^{i=n}x^{2}_{i} \\cdot \\sum_{i=1}^{i=n}y_{i} - \\sum_{i=1}^{i=n}x_{i} \\cdot \\sum_{i=1}^{i=n}x_{i}y_{i}}{n \\cdot \\sum_{i=1}^{i=n}x^{2}_{i} - \\left( \\sum_{i=1}^{i=n}x_{i} \\right)^{2}}\n",
    "    $<br>\n",
    "    </center>\n",
    "and these are exactly the same values/solutions for $m$ and $b$, like the ones we got previously by solving the normal equation."
   ]
  },
  {
   "cell_type": "markdown",
   "metadata": {},
   "source": [
    "---"
   ]
  },
  {
   "cell_type": "markdown",
   "metadata": {},
   "source": [
    "We now apply these ideas to a numerical problem. First we need to import a few models"
   ]
  },
  {
   "cell_type": "code",
   "execution_count": 1,
   "metadata": {},
   "outputs": [],
   "source": [
    "# This ensures that any graphs we generate will be part of the notebook, instead of\n",
    "# opening in a separate window\n",
    "%matplotlib inline"
   ]
  },
  {
   "cell_type": "code",
   "execution_count": 2,
   "metadata": {},
   "outputs": [],
   "source": [
    "import numpy as np # import the numerical linear algebra module\n",
    "from matplotlib import pyplot as plt\n",
    "import pandas as pd"
   ]
  },
  {
   "cell_type": "markdown",
   "metadata": {},
   "source": [
    "## Generate and display data.\n",
    "In the code block below we generate data with a linear relationship and then plot."
   ]
  },
  {
   "cell_type": "code",
   "execution_count": 3,
   "metadata": {},
   "outputs": [
    {
     "data": {
      "image/png": "[encoded data removed]",
      "text/plain": [
       "<Figure size 432x288 with 1 Axes>"
      ]
     },
     "metadata": {
      "needs_background": "light"
     },
     "output_type": "display_data"
    }
   ],
   "source": [
    "x_train = np.linspace(0,1,100)\n",
    "y_train = 0.2*x_train + 1 + 0.01*np.random.randn(x_train.shape[0])\n",
    "\n",
    "plt.plot(x_train, y_train, 'r.')\n",
    "plt.show()"
   ]
  },
  {
   "cell_type": "markdown",
   "metadata": {},
   "source": [
    "### Problem 1: Find $m$ and $b$ using numpy\n",
    "\n",
    "1. Using numpy, create $A$ and $b$ for the system $Ax=b$ (here $x$ is the vector containing the unknown weight $w$ and offset $b$). <br> ** Answer (5 marks) **\n",
    "\n",
    "2. Solve the normal equations for $m$ and $b$. <br> **Answer (5 marks)**\n"
   ]
  },
  {
   "cell_type": "code",
   "execution_count": 4,
   "metadata": {},
   "outputs": [
    {
     "name": "stdout",
     "output_type": "stream",
     "text": [
      "0.19996760826696514 1.0007370952601926\n"
     ]
    }
   ],
   "source": [
    "b = np.asarray(x_train)\n",
    "col2 = np.ones(100)\n",
    "A =  np.vstack((col2,b)).T\n",
    "\n",
    "yvec=np.asarray(y_train)\n",
    "\n",
    "A_normal =np.matmul(np.transpose(A),A)\n",
    "b_normal =np.matmul(np.transpose(A),yvec)\n",
    "\n",
    "# Solve\n",
    "solver = np.linalg.solve(A_normal, b_normal)\n",
    "b, m = solver[0] , solver[1]\n",
    "\n",
    "# End of your code\n",
    "\n",
    "# The computed values of m and b should be compared with the values\n",
    "# m = 0.2 and b = 1.0, used to generate the data\n",
    "print(m, b)"
   ]
  },
  {
   "cell_type": "markdown",
   "metadata": {},
   "source": [
    "---"
   ]
  },
  {
   "cell_type": "markdown",
   "metadata": {},
   "source": [
    "### Question 4:\n",
    "1. Why do the numerical values differ from the values used to generate the data?\n",
    "<br> **Answer (3 marks):**"
   ]
  },
  {
   "cell_type": "markdown",
   "metadata": {},
   "source": []
  },
  {
   "cell_type": "markdown",
   "metadata": {},
   "source": [
    "&nbsp;&nbsp;&nbsp;&nbsp;&nbsp;&nbsp;Because we are using a regression model to \"reverse engineer\" the initial equation that produced the points(x,y).\n",
    "We are doing so, by minimizing the squared errors sum. So the more data we feed to our regression model the more accurate. \n",
    "There can never be 0 error unless all points fall on the same line, and that is not how we created our points(x,y) initially.\n",
    "Our points had a \"random\" component in the end, and that is the error, we cannot simulate with our model."
   ]
  },
  {
   "cell_type": "markdown",
   "metadata": {},
   "source": [
    "---\n",
    "## Using normal equations is numerically unstable\n",
    "\n",
    "Although it does not matter much for the simple example above, in general it is bad practice to use the normal equations to solve the least squares problem. Surprisingly enough, the culprit is the *covariance* matrix $A^TA$. We cannot compute it in a numerically stable fashion. Technically, its condition number is roughly the square of the condition number of $A$ and in practice this means that we loose roughly half the precision if we calculate the covariance matrix.\n",
    "\n",
    "A full discussion is beyond the scope of the course, but the interested reader is encouraged to consult, Lloyd N. Trefethen and David Bau, III. NUMERICAL LINEAR ALGEBRA, SIAM 1997.\n",
    "\n",
    "A numerical stable way of solving the linear least squares problem is to first do a $QR$ factorization of $A$. If $A$ is an $m\\times n$ dimensional array with $m>n$ (more equations than unknowns), then the $QR$ factorization is given by\n",
    "$$\n",
    "A = QR,\n",
    "$$\n",
    "where $Q$ is an $m\\times n$ matrix with orthogonal columns, i.e. $Q^TQ=I$, and $R$ is an $n\\times n$ upper triangular matrix. Assuming that $A$ has full rank, i.e. its columns are linearly independent, then it can be shown that $R$ is non-singular. One has to take some care, but there are a number of numerically stable algorithms to compute the $QR$ factorisation. \n",
    "\n",
    "Let's now substitute the $A=QR$ in the normal equations,\n",
    "$$\n",
    "(QR)^T QR x = (QR)^T b.\n",
    "$$\n",
    "Taking the orthogonality of $Q$ and the non-singularity of $R$ into account, this equation boils down to\n",
    "$$\n",
    "Rx = Q^Tb.\n",
    "$$\n",
    "Since $R$ is non-singular and upper traingular, this system is easily and efficiently solved.\n",
    "\n",
    "What has happened here? After we calculated the $QR$ algorithm in a stable manner, we did many of the calculations analytically (using $Q^TQ=I$ and cancelling $R^T$ from both sides), and that is done with infinite precision!"
   ]
  },
  {
   "cell_type": "markdown",
   "metadata": {},
   "source": [
    "---\n",
    "### Problem 2:\n",
    "1. Solve the linear least squares problem using the $QR$ factorization. With numpy. <br> ** Answer (5 marks):**"
   ]
  },
  {
   "cell_type": "code",
   "execution_count": 5,
   "metadata": {},
   "outputs": [
    {
     "name": "stdout",
     "output_type": "stream",
     "text": [
      "(100, 2) \n",
      "\n",
      "R =  [[-10.          -5.        ]\n",
      " [  0.           2.91576465]] \n",
      "\n",
      "Q^TQ =  [[ 1.00000000e+00 -2.08166817e-17]\n",
      " [-2.08166817e-17  1.00000000e+00]]\n",
      "0.19996760826696514 1.0007370952601926\n"
     ]
    }
   ],
   "source": [
    "# Your code here\n",
    "Q, R = np.linalg.qr(A)\n",
    "# End of your code\n",
    "\n",
    "print(Q.shape, '\\n')\n",
    "print('R = ', R, '\\n')\n",
    "print('Q^TQ = ', np.dot(Q.T,Q))\n",
    "print(m, b)"
   ]
  },
  {
   "cell_type": "code",
   "execution_count": 6,
   "metadata": {},
   "outputs": [
    {
     "name": "stdout",
     "output_type": "stream",
     "text": [
      "0.19996760826696694 1.0007370952601917\n"
     ]
    }
   ],
   "source": [
    "# Your code here\n",
    "Q_t_B=np.matmul(np.transpose(Q),yvec)\n",
    "solver2=np.linalg.solve(R,Q_t_B)\n",
    "b, m = solver2[0],solver2[1]\n",
    "# End of your code\n",
    "\n",
    "print(m,b)"
   ]
  },
  {
   "cell_type": "markdown",
   "metadata": {},
   "source": [
    "# Solve using scikit-learn\n",
    "\n",
    "First we need to import the necessary module from scikit-learn"
   ]
  },
  {
   "cell_type": "code",
   "execution_count": 7,
   "metadata": {},
   "outputs": [],
   "source": [
    "# Import modules from sklearn\n",
    "from sklearn.linear_model import  LinearRegression"
   ]
  },
  {
   "cell_type": "markdown",
   "metadata": {},
   "source": [
    "## Problem 3:\n",
    "\n",
    "1. Solve the linear least squares problem using sklearn. <br> ** Answer (5 marks):**"
   ]
  },
  {
   "cell_type": "code",
   "execution_count": 8,
   "metadata": {},
   "outputs": [
    {
     "name": "stdout",
     "output_type": "stream",
     "text": [
      "The slope of the line is 0.19996760826696644 and the intercept is 1.000737095260192\n"
     ]
    }
   ],
   "source": [
    "# Fit the data to the model\n",
    "model1 = LinearRegression()\n",
    "X=np.array(x_train).reshape(-1,1)\n",
    "Y=np.array(y_train).reshape(-1,1)\n",
    "model1.fit(X,Y)\n",
    "# Print the weight and offset. The values are the same as from the normal equations.\n",
    "print(f'The slope of the line is {model1.coef_[0][0]} and the intercept is {model1.intercept_[0]}')"
   ]
  },
  {
   "cell_type": "markdown",
   "metadata": {},
   "source": [
    "# Using Keras\n",
    "\n",
    "First import the necessary modules from keras"
   ]
  },
  {
   "cell_type": "code",
   "execution_count": 9,
   "metadata": {},
   "outputs": [
    {
     "ename": "ModuleNotFoundError",
     "evalue": "No module named 'keras'",
     "output_type": "error",
     "traceback": [
      "\u001b[1;31m---------------------------------------------------------------------------\u001b[0m",
      "\u001b[1;31mModuleNotFoundError\u001b[0m                       Traceback (most recent call last)",
      "\u001b[1;32m<ipython-input-9-cf409c04a173>\u001b[0m in \u001b[0;36m<module>\u001b[1;34m\u001b[0m\n\u001b[1;32m----> 1\u001b[1;33m \u001b[1;32mfrom\u001b[0m \u001b[0mkeras\u001b[0m\u001b[1;33m.\u001b[0m\u001b[0mmodels\u001b[0m \u001b[1;32mimport\u001b[0m \u001b[0mSequential\u001b[0m\u001b[1;33m\u001b[0m\u001b[1;33m\u001b[0m\u001b[0m\n\u001b[0m\u001b[0;32m      2\u001b[0m \u001b[1;32mfrom\u001b[0m \u001b[0mkeras\u001b[0m\u001b[1;33m.\u001b[0m\u001b[0mlayers\u001b[0m \u001b[1;32mimport\u001b[0m \u001b[0mDense\u001b[0m\u001b[1;33m\u001b[0m\u001b[1;33m\u001b[0m\u001b[0m\n\u001b[0;32m      3\u001b[0m \u001b[1;32mfrom\u001b[0m \u001b[0mkeras\u001b[0m\u001b[1;33m.\u001b[0m\u001b[0moptimizers\u001b[0m \u001b[1;32mimport\u001b[0m \u001b[0mAdam\u001b[0m\u001b[1;33m\u001b[0m\u001b[1;33m\u001b[0m\u001b[0m\n",
      "\u001b[1;31mModuleNotFoundError\u001b[0m: No module named 'keras'"
     ]
    }
   ],
   "source": [
    "from keras.models import Sequential\n",
    "from keras.layers import Dense\n",
    "from keras.optimizers import Adam"
   ]
  },
  {
   "cell_type": "markdown",
   "metadata": {},
   "source": [
    "## Problem 4:\n",
    "\n",
    "1. Solve the linear least squares problem using keras. <br> ** Answer (5 marks):**\n",
    "2. Use the Adam optimiser and experiment with different learning rates. <br> ** Answer (5 marks):**\n",
    "\n",
    "**Note:** You should find everything you need on the internet\n",
    "* https://keras.io/getting-started/sequential-model-guide/\n",
    "* https://keras.io/optimizers/\n",
    "* https://keras.io/models/sequential/"
   ]
  },
  {
   "cell_type": "code",
   "execution_count": null,
   "metadata": {},
   "outputs": [],
   "source": [
    "model = Sequential()\n",
    "model.add(Dense(1, input_dim=1, kernel_initializer='normal', activation='linear'))\n",
    "\n",
    "# Compile model\n",
    "model.compile(loss='mse', optimizer='adam', metrics=['mse'])\n",
    "\n",
    "# Fit model: use a batch_size=20, epochs=300\n",
    "model.fit(x=X, y=Y, batch_size=20, epochs=300, verbose=1)"
   ]
  },
  {
   "cell_type": "code",
   "execution_count": null,
   "metadata": {},
   "outputs": [],
   "source": [
    "# Print model weights, might not be exactly the same as above.\n"
   ]
  }
 ],
 "metadata": {
  "kernelspec": {
   "display_name": "Python 3 (ipykernel)",
   "language": "python",
   "name": "python3"
  },
  "language_info": {
   "codemirror_mode": {
    "name": "ipython",
    "version": 3
   },
   "file_extension": ".py",
   "mimetype": "text/x-python",
   "name": "python",
   "nbconvert_exporter": "python",
   "pygments_lexer": "ipython3",
   "version": "3.9.12"
  }
 },
 "nbformat": 4,
 "nbformat_minor": 2
}
