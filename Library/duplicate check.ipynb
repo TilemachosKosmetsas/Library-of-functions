{
 "cells": [
  {
   "cell_type": "code",
   "execution_count": 17,
   "id": "8c5a19ee",
   "metadata": {},
   "outputs": [],
   "source": [
    "import numpy as np\n",
    "\n",
    "    "
   ]
  },
  {
   "cell_type": "code",
   "execution_count": 18,
   "id": "78a11dda",
   "metadata": {},
   "outputs": [],
   "source": [
    "def dupcheck(array):\n",
    "    \n",
    "    empty=[]\n",
    "    \n",
    "    for i in array:\n",
    "            if i in empty:\n",
    "                return True \n",
    "            empty.append(i)\n",
    "                \n",
    "    return False"
   ]
  },
  {
   "cell_type": "code",
   "execution_count": 19,
   "id": "45fce253",
   "metadata": {},
   "outputs": [],
   "source": [
    "#23 people prob same day birthday busted"
   ]
  },
  {
   "cell_type": "code",
   "execution_count": 25,
   "id": "fa375c55",
   "metadata": {},
   "outputs": [
    {
     "name": "stdout",
     "output_type": "stream",
     "text": [
      "CPU times: total: 1.08 s\n",
      "Wall time: 932 ms\n"
     ]
    },
    {
     "data": {
      "text/plain": [
       "0.16649"
      ]
     },
     "execution_count": 25,
     "metadata": {},
     "output_type": "execute_result"
    }
   ],
   "source": [
    "%%time\n",
    "counter=0\n",
    "for i in range(100000):\n",
    "    nums= np.random.randint(365, size=12)\n",
    "    if dupcheck(nums):\n",
    "        counter+=1    \n",
    "    else:\n",
    "        continue\n",
    "    \n",
    "counter/(i+1) "
   ]
  },
  {
   "cell_type": "code",
   "execution_count": null,
   "id": "2b33b6e4",
   "metadata": {},
   "outputs": [],
   "source": []
  }
 ],
 "metadata": {
  "kernelspec": {
   "display_name": "Python 3 (ipykernel)",
   "language": "python",
   "name": "python3"
  },
  "language_info": {
   "codemirror_mode": {
    "name": "ipython",
    "version": 3
   },
   "file_extension": ".py",
   "mimetype": "text/x-python",
   "name": "python",
   "nbconvert_exporter": "python",
   "pygments_lexer": "ipython3",
   "version": "3.9.12"
  }
 },
 "nbformat": 4,
 "nbformat_minor": 5
}
