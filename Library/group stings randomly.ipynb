{
 "cells": [
  {
   "cell_type": "code",
   "execution_count": 132,
   "id": "3916175e",
   "metadata": {},
   "outputs": [],
   "source": [
    "#group random order , as a list of lists, random size\n",
    "\n",
    "import numpy as np\n",
    "import random \n",
    "import pandas as pd\n",
    "strs = [\"eat\",\"tea\",\"tan\",\"ate\",\"nat\",\"bat\",\"fiat\"]\n"
   ]
  },
  {
   "cell_type": "code",
   "execution_count": 133,
   "id": "5cd342f3",
   "metadata": {},
   "outputs": [],
   "source": [
    "\n",
    "\n",
    "def partition_number(list_in):\n",
    "    emptylist=[]\n",
    "    dataframe=pd.DataFrame([list_in]).T\n",
    "    dataframe=dataframe.set_axis(['Words'], axis='columns')\n",
    "    dataframe['id']=[x for x in np.random.randint(len(list_in),size=len(list_in))]\n",
    "    ids=dataframe['id'].unique()\n",
    "    temp=dataframe.groupby('id')\n",
    "    for i in ids:\n",
    "        onegroup=list(dataframe.loc[temp.groups[i]]['Words'])\n",
    "        emptylist.append(onegroup)\n",
    "        \n",
    "        \n",
    "    \n",
    "    \n",
    "    return emptylist"
   ]
  },
  {
   "cell_type": "code",
   "execution_count": 134,
   "id": "b72f412d",
   "metadata": {},
   "outputs": [
    {
     "data": {
      "text/plain": [
       "[['eat', 'nat', 'fiat'], ['tea'], ['tan'], ['ate'], ['bat']]"
      ]
     },
     "execution_count": 134,
     "metadata": {},
     "output_type": "execute_result"
    }
   ],
   "source": [
    "temp=partition_number(strs)\n",
    "temp"
   ]
  },
  {
   "cell_type": "code",
   "execution_count": null,
   "id": "0785b6fc",
   "metadata": {},
   "outputs": [],
   "source": []
  }
 ],
 "metadata": {
  "kernelspec": {
   "display_name": "Python 3 (ipykernel)",
   "language": "python",
   "name": "python3"
  },
  "language_info": {
   "codemirror_mode": {
    "name": "ipython",
    "version": 3
   },
   "file_extension": ".py",
   "mimetype": "text/x-python",
   "name": "python",
   "nbconvert_exporter": "python",
   "pygments_lexer": "ipython3",
   "version": "3.9.12"
  }
 },
 "nbformat": 4,
 "nbformat_minor": 5
}
