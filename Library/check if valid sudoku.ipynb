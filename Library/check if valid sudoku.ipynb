{
 "cells": [
  {
   "cell_type": "code",
   "execution_count": 68,
   "id": "8c5a19ee",
   "metadata": {},
   "outputs": [],
   "source": [
    "import numpy as np\n",
    "import pandas as pd\n",
    "\n",
    "    "
   ]
  },
  {
   "cell_type": "code",
   "execution_count": 69,
   "id": "78a11dda",
   "metadata": {},
   "outputs": [],
   "source": [
    "def dupcheck(array):\n",
    "    \n",
    "    empty=[]\n",
    "    \n",
    "    for i in array:\n",
    "            if i in empty:\n",
    "                return True \n",
    "            empty.append(i)\n",
    "                \n",
    "    return False"
   ]
  },
  {
   "cell_type": "code",
   "execution_count": 130,
   "id": "45fce253",
   "metadata": {},
   "outputs": [],
   "source": [
    "board =[\n",
    " [\"5\",\"3\",\".\",\".\",\"7\",\".\",\".\",\".\",\".\"]   \n",
    " ,[\"6\",\".\",\".\",\"1\",\"9\",\"5\",\".\",\".\",\".\"] \n",
    " ,[\".\",\"9\",\"8\",\".\",\".\",\".\",\".\",\"6\",\".\"] \n",
    " ,[\"8\",\".\",\".\",\".\",\"6\",\".\",\".\",\".\",\"3\"] \n",
    " ,[\"4\",\".\",\".\",\"8\",\".\",\"3\",\".\",\".\",\"1\"] \n",
    " ,[\"7\",\".\",\".\",\".\",\"2\",\".\",\".\",\".\",\"6\"] \n",
    " ,[\".\",\"6\",\".\",\".\",\".\",\".\",\"3\",\"8\",\".\"] \n",
    " ,[\".\",\".\",\".\",\"4\",\"1\",\"9\",\".\",\"2\",\"5\"] \n",
    " ,[\".\",\".\",\".\",\".\",\"8\",\".\",\".\",\"7\",\"9\"]]"
   ]
  },
  {
   "cell_type": "code",
   "execution_count": 131,
   "id": "2b33b6e4",
   "metadata": {},
   "outputs": [],
   "source": [
    "#replace all dots with nan using regex\n",
    "board=pd.DataFrame(board).replace('\\.+', np.nan, regex=True)"
   ]
  },
  {
   "cell_type": "code",
   "execution_count": 132,
   "id": "73d140f7",
   "metadata": {},
   "outputs": [
    {
     "data": {
      "text/html": [
       "<div>\n",
       "<style scoped>\n",
       "    .dataframe tbody tr th:only-of-type {\n",
       "        vertical-align: middle;\n",
       "    }\n",
       "\n",
       "    .dataframe tbody tr th {\n",
       "        vertical-align: top;\n",
       "    }\n",
       "\n",
       "    .dataframe thead th {\n",
       "        text-align: right;\n",
       "    }\n",
       "</style>\n",
       "<table border=\"1\" class=\"dataframe\">\n",
       "  <thead>\n",
       "    <tr style=\"text-align: right;\">\n",
       "      <th></th>\n",
       "      <th>0</th>\n",
       "      <th>1</th>\n",
       "      <th>2</th>\n",
       "      <th>3</th>\n",
       "      <th>4</th>\n",
       "      <th>5</th>\n",
       "      <th>6</th>\n",
       "      <th>7</th>\n",
       "      <th>8</th>\n",
       "    </tr>\n",
       "  </thead>\n",
       "  <tbody>\n",
       "    <tr>\n",
       "      <th>0</th>\n",
       "      <td>5</td>\n",
       "      <td>3</td>\n",
       "      <td>NaN</td>\n",
       "      <td>NaN</td>\n",
       "      <td>7</td>\n",
       "      <td>NaN</td>\n",
       "      <td>NaN</td>\n",
       "      <td>NaN</td>\n",
       "      <td>NaN</td>\n",
       "    </tr>\n",
       "    <tr>\n",
       "      <th>1</th>\n",
       "      <td>6</td>\n",
       "      <td>NaN</td>\n",
       "      <td>NaN</td>\n",
       "      <td>1</td>\n",
       "      <td>9</td>\n",
       "      <td>5</td>\n",
       "      <td>NaN</td>\n",
       "      <td>NaN</td>\n",
       "      <td>NaN</td>\n",
       "    </tr>\n",
       "    <tr>\n",
       "      <th>2</th>\n",
       "      <td>NaN</td>\n",
       "      <td>9</td>\n",
       "      <td>8</td>\n",
       "      <td>NaN</td>\n",
       "      <td>NaN</td>\n",
       "      <td>NaN</td>\n",
       "      <td>NaN</td>\n",
       "      <td>6</td>\n",
       "      <td>NaN</td>\n",
       "    </tr>\n",
       "    <tr>\n",
       "      <th>3</th>\n",
       "      <td>8</td>\n",
       "      <td>NaN</td>\n",
       "      <td>NaN</td>\n",
       "      <td>NaN</td>\n",
       "      <td>6</td>\n",
       "      <td>NaN</td>\n",
       "      <td>NaN</td>\n",
       "      <td>NaN</td>\n",
       "      <td>3</td>\n",
       "    </tr>\n",
       "    <tr>\n",
       "      <th>4</th>\n",
       "      <td>4</td>\n",
       "      <td>NaN</td>\n",
       "      <td>NaN</td>\n",
       "      <td>8</td>\n",
       "      <td>NaN</td>\n",
       "      <td>3</td>\n",
       "      <td>NaN</td>\n",
       "      <td>NaN</td>\n",
       "      <td>1</td>\n",
       "    </tr>\n",
       "    <tr>\n",
       "      <th>5</th>\n",
       "      <td>7</td>\n",
       "      <td>NaN</td>\n",
       "      <td>NaN</td>\n",
       "      <td>NaN</td>\n",
       "      <td>2</td>\n",
       "      <td>NaN</td>\n",
       "      <td>NaN</td>\n",
       "      <td>NaN</td>\n",
       "      <td>6</td>\n",
       "    </tr>\n",
       "    <tr>\n",
       "      <th>6</th>\n",
       "      <td>NaN</td>\n",
       "      <td>6</td>\n",
       "      <td>NaN</td>\n",
       "      <td>NaN</td>\n",
       "      <td>NaN</td>\n",
       "      <td>NaN</td>\n",
       "      <td>3</td>\n",
       "      <td>8</td>\n",
       "      <td>NaN</td>\n",
       "    </tr>\n",
       "    <tr>\n",
       "      <th>7</th>\n",
       "      <td>NaN</td>\n",
       "      <td>NaN</td>\n",
       "      <td>NaN</td>\n",
       "      <td>4</td>\n",
       "      <td>1</td>\n",
       "      <td>9</td>\n",
       "      <td>NaN</td>\n",
       "      <td>2</td>\n",
       "      <td>5</td>\n",
       "    </tr>\n",
       "    <tr>\n",
       "      <th>8</th>\n",
       "      <td>NaN</td>\n",
       "      <td>NaN</td>\n",
       "      <td>NaN</td>\n",
       "      <td>NaN</td>\n",
       "      <td>8</td>\n",
       "      <td>NaN</td>\n",
       "      <td>NaN</td>\n",
       "      <td>7</td>\n",
       "      <td>9</td>\n",
       "    </tr>\n",
       "  </tbody>\n",
       "</table>\n",
       "</div>"
      ],
      "text/plain": [
       "     0    1    2    3    4    5    6    7    8\n",
       "0    5    3  NaN  NaN    7  NaN  NaN  NaN  NaN\n",
       "1    6  NaN  NaN    1    9    5  NaN  NaN  NaN\n",
       "2  NaN    9    8  NaN  NaN  NaN  NaN    6  NaN\n",
       "3    8  NaN  NaN  NaN    6  NaN  NaN  NaN    3\n",
       "4    4  NaN  NaN    8  NaN    3  NaN  NaN    1\n",
       "5    7  NaN  NaN  NaN    2  NaN  NaN  NaN    6\n",
       "6  NaN    6  NaN  NaN  NaN  NaN    3    8  NaN\n",
       "7  NaN  NaN  NaN    4    1    9  NaN    2    5\n",
       "8  NaN  NaN  NaN  NaN    8  NaN  NaN    7    9"
      ]
     },
     "execution_count": 132,
     "metadata": {},
     "output_type": "execute_result"
    }
   ],
   "source": [
    "#board=board.astype('Int64')\n",
    "board"
   ]
  },
  {
   "cell_type": "code",
   "execution_count": 133,
   "id": "c033201a",
   "metadata": {},
   "outputs": [
    {
     "data": {
      "text/plain": [
       "False"
      ]
     },
     "execution_count": 133,
     "metadata": {},
     "output_type": "execute_result"
    }
   ],
   "source": [
    "dupcheck(board.iloc[1,:].dropna())"
   ]
  },
  {
   "cell_type": "code",
   "execution_count": 134,
   "id": "18f69409",
   "metadata": {},
   "outputs": [
    {
     "name": "stdout",
     "output_type": "stream",
     "text": [
      "valid\n"
     ]
    }
   ],
   "source": [
    "for i in range(board.shape[0]):\n",
    "    state = 0\n",
    "    if (dupcheck(board.iloc[i,:].dropna()) or dupcheck(board.iloc[:,i].dropna())):\n",
    "        state=1\n",
    "        break\n",
    "    \n",
    "        \n",
    "    if i%3 == 0:\n",
    "        for j in range(board.shape[0]):\n",
    "            if j%3 ==0:\n",
    "                a=pd.DataFrame(board.iloc[i:i+3,j:j+3].values.reshape(-1,9))\n",
    "                a=a.iloc[0,:]\n",
    "                #print (a.dropna())\n",
    "        \n",
    "                if dupcheck(a.dropna()) :\n",
    "                    state=1\n",
    "                    break\n",
    "        \n",
    "    if state == 1:\n",
    "        break\n",
    "        \n",
    "                    \n",
    "if state==1:\n",
    "    print (\"not valid\")\n",
    "        \n",
    "else:\n",
    "    print('valid')"
   ]
  },
  {
   "cell_type": "code",
   "execution_count": null,
   "id": "1ff14e55",
   "metadata": {},
   "outputs": [],
   "source": []
  },
  {
   "cell_type": "code",
   "execution_count": null,
   "id": "473e9f5c",
   "metadata": {},
   "outputs": [],
   "source": []
  },
  {
   "cell_type": "code",
   "execution_count": null,
   "id": "ae293771",
   "metadata": {},
   "outputs": [],
   "source": []
  }
 ],
 "metadata": {
  "kernelspec": {
   "display_name": "Python 3 (ipykernel)",
   "language": "python",
   "name": "python3"
  },
  "language_info": {
   "codemirror_mode": {
    "name": "ipython",
    "version": 3
   },
   "file_extension": ".py",
   "mimetype": "text/x-python",
   "name": "python",
   "nbconvert_exporter": "python",
   "pygments_lexer": "ipython3",
   "version": "3.9.12"
  }
 },
 "nbformat": 4,
 "nbformat_minor": 5
}
