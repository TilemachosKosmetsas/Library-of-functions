{
 "cells": [
  {
   "cell_type": "code",
   "execution_count": 29,
   "id": "62fa08cd",
   "metadata": {},
   "outputs": [],
   "source": [
    "\n",
    "x=\"anagram\"\n",
    "y=\"agaramn\""
   ]
  },
  {
   "cell_type": "code",
   "execution_count": 30,
   "id": "b30af748",
   "metadata": {},
   "outputs": [],
   "source": [
    "\n",
    "\n",
    "def check_anagram(a,b):\n",
    "    _first=[]\n",
    "    _second=[]\n",
    "    for char in a:\n",
    "        _first.append(char)\n",
    "    for char in b:\n",
    "        _second.append(char)\n",
    "    \n",
    "    _first.sort()\n",
    "    _second.sort()\n",
    "    if _first == _second :\n",
    "        return True\n",
    "    else:\n",
    "        return False\n",
    "        \n",
    "        \n",
    "    "
   ]
  },
  {
   "cell_type": "code",
   "execution_count": 31,
   "id": "1361016f",
   "metadata": {},
   "outputs": [
    {
     "data": {
      "text/plain": [
       "True"
      ]
     },
     "execution_count": 31,
     "metadata": {},
     "output_type": "execute_result"
    }
   ],
   "source": [
    "check_anagram(x,y)"
   ]
  },
  {
   "cell_type": "code",
   "execution_count": null,
   "id": "a10d239d",
   "metadata": {},
   "outputs": [],
   "source": []
  }
 ],
 "metadata": {
  "kernelspec": {
   "display_name": "Python 3 (ipykernel)",
   "language": "python",
   "name": "python3"
  },
  "language_info": {
   "codemirror_mode": {
    "name": "ipython",
    "version": 3
   },
   "file_extension": ".py",
   "mimetype": "text/x-python",
   "name": "python",
   "nbconvert_exporter": "python",
   "pygments_lexer": "ipython3",
   "version": "3.9.12"
  }
 },
 "nbformat": 4,
 "nbformat_minor": 5
}
