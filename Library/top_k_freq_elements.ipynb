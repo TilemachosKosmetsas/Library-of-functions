{
 "cells": [
  {
   "cell_type": "code",
   "execution_count": 151,
   "id": "9ce42d9e",
   "metadata": {},
   "outputs": [],
   "source": [
    "import pandas as pd\n",
    "array = [3,2,1,1,1,1,2,2,3,4,3,4,1,1,1,3,3,3,3,3,3,3,3,3]"
   ]
  },
  {
   "cell_type": "code",
   "execution_count": 152,
   "id": "2a3e24e0",
   "metadata": {},
   "outputs": [],
   "source": [
    "def top_frek_k_elements(array,k):\n",
    "    if k <= len(array):\n",
    "        array=pd.DataFrame(array,columns=[\"values\"])\n",
    "        temp2=array.sort_values(by=['values'],ascending=False)\n",
    "        temp=temp2.groupby('values')\n",
    "        \n",
    "        res={}\n",
    "        for i in range(len(temp.groups)):\n",
    "            res[len(list(temp.groups.values())[i])] = i+1\n",
    "        listkeys=list(res.keys())\n",
    "        listkeys.sort(reverse=True)\n",
    "        values_to_return=[]\n",
    "        n=0\n",
    "       \n",
    "        for i in listkeys:\n",
    "            if n <k:\n",
    "                a=res.get(i)\n",
    "                values_to_return.append(a)\n",
    "                n+=1\n",
    "            \n",
    "        return values_to_return\n",
    "    else:\n",
    "        print(\"invalid input\")\n",
    "        "
   ]
  },
  {
   "cell_type": "code",
   "execution_count": 160,
   "id": "9b50ec22",
   "metadata": {},
   "outputs": [
    {
     "data": {
      "text/plain": [
       "[3, 1]"
      ]
     },
     "execution_count": 160,
     "metadata": {},
     "output_type": "execute_result"
    }
   ],
   "source": [
    "#keys how many , values which is it\n",
    "top_frek_k_elements(array,2)"
   ]
  },
  {
   "cell_type": "code",
   "execution_count": null,
   "id": "c005f93a",
   "metadata": {},
   "outputs": [],
   "source": []
  },
  {
   "cell_type": "code",
   "execution_count": null,
   "id": "a9f8f956",
   "metadata": {},
   "outputs": [],
   "source": []
  }
 ],
 "metadata": {
  "kernelspec": {
   "display_name": "Python 3 (ipykernel)",
   "language": "python",
   "name": "python3"
  },
  "language_info": {
   "codemirror_mode": {
    "name": "ipython",
    "version": 3
   },
   "file_extension": ".py",
   "mimetype": "text/x-python",
   "name": "python",
   "nbconvert_exporter": "python",
   "pygments_lexer": "ipython3",
   "version": "3.9.12"
  }
 },
 "nbformat": 4,
 "nbformat_minor": 5
}
